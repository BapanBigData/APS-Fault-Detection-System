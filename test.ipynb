{
 "cells": [
  {
   "cell_type": "code",
   "execution_count": 10,
   "metadata": {},
   "outputs": [],
   "source": [
    "import sys"
   ]
  },
  {
   "cell_type": "code",
   "execution_count": 11,
   "metadata": {},
   "outputs": [
    {
     "data": {
      "text/plain": [
       "(None, None, None)"
      ]
     },
     "execution_count": 11,
     "metadata": {},
     "output_type": "execute_result"
    }
   ],
   "source": [
    "sys.exc_info()"
   ]
  },
  {
   "cell_type": "code",
   "execution_count": 12,
   "metadata": {},
   "outputs": [],
   "source": [
    "import pandas as pd"
   ]
  },
  {
   "cell_type": "code",
   "execution_count": 13,
   "metadata": {},
   "outputs": [
    {
     "data": {
      "text/html": [
       "<div>\n",
       "<style scoped>\n",
       "    .dataframe tbody tr th:only-of-type {\n",
       "        vertical-align: middle;\n",
       "    }\n",
       "\n",
       "    .dataframe tbody tr th {\n",
       "        vertical-align: top;\n",
       "    }\n",
       "\n",
       "    .dataframe thead th {\n",
       "        text-align: right;\n",
       "    }\n",
       "</style>\n",
       "<table border=\"1\" class=\"dataframe\">\n",
       "  <thead>\n",
       "    <tr style=\"text-align: right;\">\n",
       "      <th></th>\n",
       "      <th>class</th>\n",
       "      <th>aa_000</th>\n",
       "      <th>ab_000</th>\n",
       "      <th>ac_000</th>\n",
       "      <th>ad_000</th>\n",
       "      <th>ae_000</th>\n",
       "      <th>af_000</th>\n",
       "      <th>ag_000</th>\n",
       "      <th>ag_001</th>\n",
       "      <th>ag_002</th>\n",
       "      <th>...</th>\n",
       "      <th>ee_002</th>\n",
       "      <th>ee_003</th>\n",
       "      <th>ee_004</th>\n",
       "      <th>ee_005</th>\n",
       "      <th>ee_006</th>\n",
       "      <th>ee_007</th>\n",
       "      <th>ee_008</th>\n",
       "      <th>ee_009</th>\n",
       "      <th>ef_000</th>\n",
       "      <th>eg_000</th>\n",
       "    </tr>\n",
       "  </thead>\n",
       "  <tbody>\n",
       "    <tr>\n",
       "      <th>0</th>\n",
       "      <td>pos</td>\n",
       "      <td>199350</td>\n",
       "      <td>0.0</td>\n",
       "      <td>468.0</td>\n",
       "      <td>58.0</td>\n",
       "      <td>0.0</td>\n",
       "      <td>0.0</td>\n",
       "      <td>0.0</td>\n",
       "      <td>0.0</td>\n",
       "      <td>0.0</td>\n",
       "      <td>...</td>\n",
       "      <td>282224.0</td>\n",
       "      <td>95380.0</td>\n",
       "      <td>237386.0</td>\n",
       "      <td>479518.0</td>\n",
       "      <td>899682.0</td>\n",
       "      <td>615538.0</td>\n",
       "      <td>7440.0</td>\n",
       "      <td>180.0</td>\n",
       "      <td>0.0</td>\n",
       "      <td>0.0</td>\n",
       "    </tr>\n",
       "    <tr>\n",
       "      <th>1</th>\n",
       "      <td>pos</td>\n",
       "      <td>892422</td>\n",
       "      <td>2.0</td>\n",
       "      <td>1342.0</td>\n",
       "      <td>1100.0</td>\n",
       "      <td>0.0</td>\n",
       "      <td>0.0</td>\n",
       "      <td>0.0</td>\n",
       "      <td>2716.0</td>\n",
       "      <td>656148.0</td>\n",
       "      <td>...</td>\n",
       "      <td>3500996.0</td>\n",
       "      <td>1980134.0</td>\n",
       "      <td>5102372.0</td>\n",
       "      <td>7882256.0</td>\n",
       "      <td>14095922.0</td>\n",
       "      <td>6605678.0</td>\n",
       "      <td>206190.0</td>\n",
       "      <td>774.0</td>\n",
       "      <td>0.0</td>\n",
       "      <td>0.0</td>\n",
       "    </tr>\n",
       "    <tr>\n",
       "      <th>2</th>\n",
       "      <td>pos</td>\n",
       "      <td>392526</td>\n",
       "      <td>NaN</td>\n",
       "      <td>NaN</td>\n",
       "      <td>NaN</td>\n",
       "      <td>NaN</td>\n",
       "      <td>NaN</td>\n",
       "      <td>0.0</td>\n",
       "      <td>0.0</td>\n",
       "      <td>0.0</td>\n",
       "      <td>...</td>\n",
       "      <td>5384816.0</td>\n",
       "      <td>2076164.0</td>\n",
       "      <td>2854136.0</td>\n",
       "      <td>2445814.0</td>\n",
       "      <td>583594.0</td>\n",
       "      <td>210220.0</td>\n",
       "      <td>11738.0</td>\n",
       "      <td>172.0</td>\n",
       "      <td>NaN</td>\n",
       "      <td>NaN</td>\n",
       "    </tr>\n",
       "    <tr>\n",
       "      <th>3</th>\n",
       "      <td>pos</td>\n",
       "      <td>460990</td>\n",
       "      <td>0.0</td>\n",
       "      <td>3322.0</td>\n",
       "      <td>212.0</td>\n",
       "      <td>0.0</td>\n",
       "      <td>0.0</td>\n",
       "      <td>0.0</td>\n",
       "      <td>1094.0</td>\n",
       "      <td>63812.0</td>\n",
       "      <td>...</td>\n",
       "      <td>864476.0</td>\n",
       "      <td>336864.0</td>\n",
       "      <td>820060.0</td>\n",
       "      <td>1116896.0</td>\n",
       "      <td>2489538.0</td>\n",
       "      <td>1271120.0</td>\n",
       "      <td>41198.0</td>\n",
       "      <td>20.0</td>\n",
       "      <td>0.0</td>\n",
       "      <td>0.0</td>\n",
       "    </tr>\n",
       "    <tr>\n",
       "      <th>4</th>\n",
       "      <td>pos</td>\n",
       "      <td>110502</td>\n",
       "      <td>0.0</td>\n",
       "      <td>8.0</td>\n",
       "      <td>8.0</td>\n",
       "      <td>0.0</td>\n",
       "      <td>0.0</td>\n",
       "      <td>0.0</td>\n",
       "      <td>0.0</td>\n",
       "      <td>0.0</td>\n",
       "      <td>...</td>\n",
       "      <td>50822.0</td>\n",
       "      <td>22460.0</td>\n",
       "      <td>36744.0</td>\n",
       "      <td>20498.0</td>\n",
       "      <td>15926.0</td>\n",
       "      <td>21798.0</td>\n",
       "      <td>1306.0</td>\n",
       "      <td>0.0</td>\n",
       "      <td>0.0</td>\n",
       "      <td>0.0</td>\n",
       "    </tr>\n",
       "  </tbody>\n",
       "</table>\n",
       "<p>5 rows × 171 columns</p>\n",
       "</div>"
      ],
      "text/plain": [
       "  class  aa_000  ab_000  ac_000  ad_000  ae_000  af_000  ag_000  ag_001  \\\n",
       "0   pos  199350     0.0   468.0    58.0     0.0     0.0     0.0     0.0   \n",
       "1   pos  892422     2.0  1342.0  1100.0     0.0     0.0     0.0  2716.0   \n",
       "2   pos  392526     NaN     NaN     NaN     NaN     NaN     0.0     0.0   \n",
       "3   pos  460990     0.0  3322.0   212.0     0.0     0.0     0.0  1094.0   \n",
       "4   pos  110502     0.0     8.0     8.0     0.0     0.0     0.0     0.0   \n",
       "\n",
       "     ag_002  ...     ee_002     ee_003     ee_004     ee_005      ee_006  \\\n",
       "0       0.0  ...   282224.0    95380.0   237386.0   479518.0    899682.0   \n",
       "1  656148.0  ...  3500996.0  1980134.0  5102372.0  7882256.0  14095922.0   \n",
       "2       0.0  ...  5384816.0  2076164.0  2854136.0  2445814.0    583594.0   \n",
       "3   63812.0  ...   864476.0   336864.0   820060.0  1116896.0   2489538.0   \n",
       "4       0.0  ...    50822.0    22460.0    36744.0    20498.0     15926.0   \n",
       "\n",
       "      ee_007    ee_008  ee_009  ef_000  eg_000  \n",
       "0   615538.0    7440.0   180.0     0.0     0.0  \n",
       "1  6605678.0  206190.0   774.0     0.0     0.0  \n",
       "2   210220.0   11738.0   172.0     NaN     NaN  \n",
       "3  1271120.0   41198.0    20.0     0.0     0.0  \n",
       "4    21798.0    1306.0     0.0     0.0     0.0  \n",
       "\n",
       "[5 rows x 171 columns]"
      ]
     },
     "execution_count": 13,
     "metadata": {},
     "output_type": "execute_result"
    }
   ],
   "source": [
    "path = r'artifact/08_17_2024_04_14_57/data_ingestion/feature_store/sensor.csv'\n",
    "\n",
    "df = pd.read_csv(path)\n",
    "df.head()"
   ]
  },
  {
   "cell_type": "code",
   "execution_count": 14,
   "metadata": {},
   "outputs": [
    {
     "data": {
      "text/plain": [
       "(321, 171)"
      ]
     },
     "execution_count": 14,
     "metadata": {},
     "output_type": "execute_result"
    }
   ],
   "source": [
    "df.shape"
   ]
  },
  {
   "cell_type": "code",
   "execution_count": 15,
   "metadata": {},
   "outputs": [
    {
     "data": {
      "text/plain": [
       "class       0\n",
       "aa_000      0\n",
       "ab_000    230\n",
       "ac_000    138\n",
       "ad_000    217\n",
       "         ... \n",
       "ee_007      3\n",
       "ee_008      3\n",
       "ee_009      3\n",
       "ef_000    102\n",
       "eg_000    102\n",
       "Length: 171, dtype: int64"
      ]
     },
     "execution_count": 15,
     "metadata": {},
     "output_type": "execute_result"
    }
   ],
   "source": [
    "df.isnull().sum()"
   ]
  },
  {
   "cell_type": "code",
   "execution_count": 16,
   "metadata": {},
   "outputs": [
    {
     "data": {
      "text/plain": [
       "class      object\n",
       "aa_000      int64\n",
       "ab_000    float64\n",
       "ac_000    float64\n",
       "ad_000    float64\n",
       "           ...   \n",
       "ee_007    float64\n",
       "ee_008    float64\n",
       "ee_009    float64\n",
       "ef_000    float64\n",
       "eg_000    float64\n",
       "Length: 171, dtype: object"
      ]
     },
     "execution_count": 16,
     "metadata": {},
     "output_type": "execute_result"
    }
   ],
   "source": [
    "df.dtypes"
   ]
  },
  {
   "cell_type": "code",
   "execution_count": null,
   "metadata": {},
   "outputs": [],
   "source": []
  },
  {
   "cell_type": "code",
   "execution_count": 17,
   "metadata": {},
   "outputs": [],
   "source": [
    "from scipy.stats import ks_2samp\n",
    "import numpy as np"
   ]
  },
  {
   "cell_type": "code",
   "execution_count": 18,
   "metadata": {},
   "outputs": [],
   "source": [
    "d1 = np.random.randn(100)\n",
    "d2 = np.random.normal(loc=0.0, scale=1.0, size=100)\n",
    "d3 = np.random.uniform(low=-1, high=2, size=100)"
   ]
  },
  {
   "cell_type": "code",
   "execution_count": 19,
   "metadata": {},
   "outputs": [
    {
     "data": {
      "text/plain": [
       "KstestResult(statistic=0.2, pvalue=0.03638428787491733, statistic_location=0.05668154816457801, statistic_sign=1)"
      ]
     },
     "execution_count": 19,
     "metadata": {},
     "output_type": "execute_result"
    }
   ],
   "source": [
    "ks_2samp(d1, d2)"
   ]
  },
  {
   "cell_type": "code",
   "execution_count": 20,
   "metadata": {},
   "outputs": [
    {
     "data": {
      "text/plain": [
       "KstestResult(statistic=0.24, pvalue=0.0061340334218580265, statistic_location=0.3986776616193534, statistic_sign=1)"
      ]
     },
     "execution_count": 20,
     "metadata": {},
     "output_type": "execute_result"
    }
   ],
   "source": [
    "ks_2samp(d1, d3)"
   ]
  },
  {
   "cell_type": "code",
   "execution_count": 21,
   "metadata": {},
   "outputs": [
    {
     "data": {
      "text/plain": [
       "KstestResult(statistic=0.16, pvalue=0.1548386665118475, statistic_location=1.250324822377371, statistic_sign=1)"
      ]
     },
     "execution_count": 21,
     "metadata": {},
     "output_type": "execute_result"
    }
   ],
   "source": [
    "ks_2samp(d2, d3)"
   ]
  },
  {
   "cell_type": "code",
   "execution_count": 22,
   "metadata": {},
   "outputs": [],
   "source": [
    "train_path = r'artifact/08_17_2024_04_14_57/data_ingestion/ingested/train.csv'\n",
    "test_path = r'artifact/08_17_2024_04_14_57/data_ingestion/ingested/test.csv'"
   ]
  },
  {
   "cell_type": "code",
   "execution_count": 23,
   "metadata": {},
   "outputs": [],
   "source": [
    "train_df = pd.read_csv(train_path)\n",
    "test_df = pd.read_csv(test_path)"
   ]
  },
  {
   "cell_type": "code",
   "execution_count": 24,
   "metadata": {},
   "outputs": [
    {
     "data": {
      "text/plain": [
       "Index(['class', 'aa_000', 'ab_000', 'ac_000', 'ad_000', 'ae_000', 'af_000',\n",
       "       'ag_000', 'ag_001', 'ag_002',\n",
       "       ...\n",
       "       'ee_002', 'ee_003', 'ee_004', 'ee_005', 'ee_006', 'ee_007', 'ee_008',\n",
       "       'ee_009', 'ef_000', 'eg_000'],\n",
       "      dtype='object', length=171)"
      ]
     },
     "execution_count": 24,
     "metadata": {},
     "output_type": "execute_result"
    }
   ],
   "source": [
    "train_df.columns"
   ]
  },
  {
   "cell_type": "code",
   "execution_count": 25,
   "metadata": {},
   "outputs": [
    {
     "data": {
      "text/plain": [
       "Index(['class', 'aa_000', 'ab_000', 'ac_000', 'ad_000', 'ae_000', 'af_000',\n",
       "       'ag_000', 'ag_001', 'ag_002',\n",
       "       ...\n",
       "       'ee_002', 'ee_003', 'ee_004', 'ee_005', 'ee_006', 'ee_007', 'ee_008',\n",
       "       'ee_009', 'ef_000', 'eg_000'],\n",
       "      dtype='object', length=171)"
      ]
     },
     "execution_count": 25,
     "metadata": {},
     "output_type": "execute_result"
    }
   ],
   "source": [
    "test_df.columns"
   ]
  },
  {
   "cell_type": "code",
   "execution_count": 26,
   "metadata": {},
   "outputs": [
    {
     "data": {
      "text/plain": [
       "0"
      ]
     },
     "execution_count": 26,
     "metadata": {},
     "output_type": "execute_result"
    }
   ],
   "source": [
    "train_df['aa_000'].isnull().sum()"
   ]
  },
  {
   "cell_type": "code",
   "execution_count": 27,
   "metadata": {},
   "outputs": [
    {
     "data": {
      "text/plain": [
       "0"
      ]
     },
     "execution_count": 27,
     "metadata": {},
     "output_type": "execute_result"
    }
   ],
   "source": [
    "test_df['aa_000'].isnull().sum()"
   ]
  },
  {
   "cell_type": "code",
   "execution_count": 28,
   "metadata": {},
   "outputs": [],
   "source": [
    "d1 = train_df['ee_003']\n",
    "d2 = test_df['ee_003']"
   ]
  },
  {
   "cell_type": "code",
   "execution_count": 29,
   "metadata": {},
   "outputs": [
    {
     "data": {
      "text/plain": [
       "KstestResult(statistic=nan, pvalue=nan, statistic_location=nan, statistic_sign=nan)"
      ]
     },
     "execution_count": 29,
     "metadata": {},
     "output_type": "execute_result"
    }
   ],
   "source": [
    "ks_2samp(d1, d2)"
   ]
  },
  {
   "cell_type": "code",
   "execution_count": 30,
   "metadata": {},
   "outputs": [
    {
     "data": {
      "text/plain": [
       "{'class': {'p-value': 1.0, 'drift status': False},\n",
       " 'aa_000': {'p-value': 0.7603742420966467, 'drift status': False},\n",
       " 'ab_000': {'p-value': nan, 'drift status': True},\n",
       " 'ac_000': {'p-value': nan, 'drift status': True},\n",
       " 'ad_000': {'p-value': nan, 'drift status': True},\n",
       " 'ae_000': {'p-value': nan, 'drift status': True},\n",
       " 'af_000': {'p-value': nan, 'drift status': True},\n",
       " 'ag_000': {'p-value': nan, 'drift status': True},\n",
       " 'ag_001': {'p-value': nan, 'drift status': True},\n",
       " 'ag_002': {'p-value': nan, 'drift status': True},\n",
       " 'ag_003': {'p-value': nan, 'drift status': True},\n",
       " 'ag_004': {'p-value': nan, 'drift status': True},\n",
       " 'ag_005': {'p-value': nan, 'drift status': True},\n",
       " 'ag_006': {'p-value': nan, 'drift status': True},\n",
       " 'ag_007': {'p-value': nan, 'drift status': True},\n",
       " 'ag_008': {'p-value': nan, 'drift status': True},\n",
       " 'ag_009': {'p-value': nan, 'drift status': True},\n",
       " 'ah_000': {'p-value': nan, 'drift status': True},\n",
       " 'ai_000': {'p-value': nan, 'drift status': True},\n",
       " 'aj_000': {'p-value': nan, 'drift status': True},\n",
       " 'ak_000': {'p-value': nan, 'drift status': True},\n",
       " 'al_000': {'p-value': nan, 'drift status': True},\n",
       " 'am_0': {'p-value': nan, 'drift status': True},\n",
       " 'an_000': {'p-value': nan, 'drift status': True},\n",
       " 'ao_000': {'p-value': nan, 'drift status': True},\n",
       " 'ap_000': {'p-value': nan, 'drift status': True},\n",
       " 'aq_000': {'p-value': nan, 'drift status': True},\n",
       " 'ar_000': {'p-value': nan, 'drift status': True},\n",
       " 'as_000': {'p-value': nan, 'drift status': True},\n",
       " 'at_000': {'p-value': nan, 'drift status': True},\n",
       " 'au_000': {'p-value': nan, 'drift status': True},\n",
       " 'av_000': {'p-value': nan, 'drift status': True},\n",
       " 'ax_000': {'p-value': nan, 'drift status': True},\n",
       " 'ay_000': {'p-value': nan, 'drift status': True},\n",
       " 'ay_001': {'p-value': nan, 'drift status': True},\n",
       " 'ay_002': {'p-value': nan, 'drift status': True},\n",
       " 'ay_003': {'p-value': nan, 'drift status': True},\n",
       " 'ay_004': {'p-value': nan, 'drift status': True},\n",
       " 'ay_005': {'p-value': nan, 'drift status': True},\n",
       " 'ay_006': {'p-value': nan, 'drift status': True},\n",
       " 'ay_007': {'p-value': nan, 'drift status': True},\n",
       " 'ay_008': {'p-value': nan, 'drift status': True},\n",
       " 'ay_009': {'p-value': nan, 'drift status': True},\n",
       " 'az_000': {'p-value': nan, 'drift status': True},\n",
       " 'az_001': {'p-value': nan, 'drift status': True},\n",
       " 'az_002': {'p-value': nan, 'drift status': True},\n",
       " 'az_003': {'p-value': nan, 'drift status': True},\n",
       " 'az_004': {'p-value': nan, 'drift status': True},\n",
       " 'az_005': {'p-value': nan, 'drift status': True},\n",
       " 'az_006': {'p-value': nan, 'drift status': True},\n",
       " 'az_007': {'p-value': nan, 'drift status': True},\n",
       " 'az_008': {'p-value': nan, 'drift status': True},\n",
       " 'az_009': {'p-value': nan, 'drift status': True},\n",
       " 'ba_000': {'p-value': nan, 'drift status': True},\n",
       " 'ba_001': {'p-value': nan, 'drift status': True},\n",
       " 'ba_002': {'p-value': nan, 'drift status': True},\n",
       " 'ba_003': {'p-value': nan, 'drift status': True},\n",
       " 'ba_004': {'p-value': nan, 'drift status': True},\n",
       " 'ba_005': {'p-value': nan, 'drift status': True},\n",
       " 'ba_006': {'p-value': nan, 'drift status': True},\n",
       " 'ba_007': {'p-value': nan, 'drift status': True},\n",
       " 'ba_008': {'p-value': nan, 'drift status': True},\n",
       " 'ba_009': {'p-value': nan, 'drift status': True},\n",
       " 'bb_000': {'p-value': nan, 'drift status': True},\n",
       " 'bc_000': {'p-value': nan, 'drift status': True},\n",
       " 'bd_000': {'p-value': nan, 'drift status': True},\n",
       " 'be_000': {'p-value': nan, 'drift status': True},\n",
       " 'bf_000': {'p-value': nan, 'drift status': True},\n",
       " 'bg_000': {'p-value': nan, 'drift status': True},\n",
       " 'bh_000': {'p-value': nan, 'drift status': True},\n",
       " 'bi_000': {'p-value': nan, 'drift status': True},\n",
       " 'bj_000': {'p-value': nan, 'drift status': True},\n",
       " 'bk_000': {'p-value': nan, 'drift status': True},\n",
       " 'bl_000': {'p-value': nan, 'drift status': True},\n",
       " 'bm_000': {'p-value': nan, 'drift status': True},\n",
       " 'bn_000': {'p-value': nan, 'drift status': True},\n",
       " 'bo_000': {'p-value': nan, 'drift status': True},\n",
       " 'bp_000': {'p-value': nan, 'drift status': True},\n",
       " 'bq_000': {'p-value': nan, 'drift status': True},\n",
       " 'br_000': {'p-value': nan, 'drift status': True},\n",
       " 'bs_000': {'p-value': nan, 'drift status': True},\n",
       " 'bt_000': {'p-value': nan, 'drift status': True},\n",
       " 'bu_000': {'p-value': nan, 'drift status': True},\n",
       " 'bv_000': {'p-value': nan, 'drift status': True},\n",
       " 'bx_000': {'p-value': nan, 'drift status': True},\n",
       " 'by_000': {'p-value': 0.8327316920117638, 'drift status': False},\n",
       " 'bz_000': {'p-value': nan, 'drift status': True},\n",
       " 'ca_000': {'p-value': nan, 'drift status': True},\n",
       " 'cb_000': {'p-value': nan, 'drift status': True},\n",
       " 'cc_000': {'p-value': nan, 'drift status': True},\n",
       " 'cd_000': {'p-value': nan, 'drift status': True},\n",
       " 'ce_000': {'p-value': nan, 'drift status': True},\n",
       " 'cf_000': {'p-value': nan, 'drift status': True},\n",
       " 'cg_000': {'p-value': nan, 'drift status': True},\n",
       " 'ch_000': {'p-value': nan, 'drift status': True},\n",
       " 'ci_000': {'p-value': nan, 'drift status': True},\n",
       " 'cj_000': {'p-value': nan, 'drift status': True},\n",
       " 'ck_000': {'p-value': nan, 'drift status': True},\n",
       " 'cl_000': {'p-value': nan, 'drift status': True},\n",
       " 'cm_000': {'p-value': nan, 'drift status': True},\n",
       " 'cn_000': {'p-value': nan, 'drift status': True},\n",
       " 'cn_001': {'p-value': nan, 'drift status': True},\n",
       " 'cn_002': {'p-value': nan, 'drift status': True},\n",
       " 'cn_003': {'p-value': nan, 'drift status': True},\n",
       " 'cn_004': {'p-value': nan, 'drift status': True},\n",
       " 'cn_005': {'p-value': nan, 'drift status': True},\n",
       " 'cn_006': {'p-value': nan, 'drift status': True},\n",
       " 'cn_007': {'p-value': nan, 'drift status': True},\n",
       " 'cn_008': {'p-value': nan, 'drift status': True},\n",
       " 'cn_009': {'p-value': nan, 'drift status': True},\n",
       " 'co_000': {'p-value': nan, 'drift status': True},\n",
       " 'cp_000': {'p-value': nan, 'drift status': True},\n",
       " 'cq_000': {'p-value': nan, 'drift status': True},\n",
       " 'cr_000': {'p-value': nan, 'drift status': True},\n",
       " 'cs_000': {'p-value': nan, 'drift status': True},\n",
       " 'cs_001': {'p-value': nan, 'drift status': True},\n",
       " 'cs_002': {'p-value': nan, 'drift status': True},\n",
       " 'cs_003': {'p-value': nan, 'drift status': True},\n",
       " 'cs_004': {'p-value': nan, 'drift status': True},\n",
       " 'cs_005': {'p-value': nan, 'drift status': True},\n",
       " 'cs_006': {'p-value': nan, 'drift status': True},\n",
       " 'cs_007': {'p-value': nan, 'drift status': True},\n",
       " 'cs_008': {'p-value': nan, 'drift status': True},\n",
       " 'cs_009': {'p-value': nan, 'drift status': True},\n",
       " 'ct_000': {'p-value': nan, 'drift status': True},\n",
       " 'cu_000': {'p-value': nan, 'drift status': True},\n",
       " 'cv_000': {'p-value': nan, 'drift status': True},\n",
       " 'cx_000': {'p-value': nan, 'drift status': True},\n",
       " 'cy_000': {'p-value': nan, 'drift status': True},\n",
       " 'cz_000': {'p-value': nan, 'drift status': True},\n",
       " 'da_000': {'p-value': nan, 'drift status': True},\n",
       " 'db_000': {'p-value': nan, 'drift status': True},\n",
       " 'dc_000': {'p-value': nan, 'drift status': True},\n",
       " 'dd_000': {'p-value': nan, 'drift status': True},\n",
       " 'de_000': {'p-value': nan, 'drift status': True},\n",
       " 'df_000': {'p-value': nan, 'drift status': True},\n",
       " 'dg_000': {'p-value': nan, 'drift status': True},\n",
       " 'dh_000': {'p-value': nan, 'drift status': True},\n",
       " 'di_000': {'p-value': nan, 'drift status': True},\n",
       " 'dj_000': {'p-value': nan, 'drift status': True},\n",
       " 'dk_000': {'p-value': nan, 'drift status': True},\n",
       " 'dl_000': {'p-value': nan, 'drift status': True},\n",
       " 'dm_000': {'p-value': nan, 'drift status': True},\n",
       " 'dn_000': {'p-value': nan, 'drift status': True},\n",
       " 'do_000': {'p-value': nan, 'drift status': True},\n",
       " 'dp_000': {'p-value': nan, 'drift status': True},\n",
       " 'dq_000': {'p-value': nan, 'drift status': True},\n",
       " 'dr_000': {'p-value': nan, 'drift status': True},\n",
       " 'ds_000': {'p-value': nan, 'drift status': True},\n",
       " 'dt_000': {'p-value': nan, 'drift status': True},\n",
       " 'du_000': {'p-value': nan, 'drift status': True},\n",
       " 'dv_000': {'p-value': nan, 'drift status': True},\n",
       " 'dx_000': {'p-value': nan, 'drift status': True},\n",
       " 'dy_000': {'p-value': nan, 'drift status': True},\n",
       " 'dz_000': {'p-value': nan, 'drift status': True},\n",
       " 'ea_000': {'p-value': nan, 'drift status': True},\n",
       " 'eb_000': {'p-value': nan, 'drift status': True},\n",
       " 'ec_00': {'p-value': nan, 'drift status': True},\n",
       " 'ed_000': {'p-value': nan, 'drift status': True},\n",
       " 'ee_000': {'p-value': nan, 'drift status': True},\n",
       " 'ee_001': {'p-value': nan, 'drift status': True},\n",
       " 'ee_002': {'p-value': nan, 'drift status': True},\n",
       " 'ee_003': {'p-value': nan, 'drift status': True},\n",
       " 'ee_004': {'p-value': nan, 'drift status': True},\n",
       " 'ee_005': {'p-value': nan, 'drift status': True},\n",
       " 'ee_006': {'p-value': nan, 'drift status': True},\n",
       " 'ee_007': {'p-value': nan, 'drift status': True},\n",
       " 'ee_008': {'p-value': nan, 'drift status': True},\n",
       " 'ee_009': {'p-value': nan, 'drift status': True},\n",
       " 'ef_000': {'p-value': nan, 'drift status': True},\n",
       " 'eg_000': {'p-value': nan, 'drift status': True}}"
      ]
     },
     "execution_count": 30,
     "metadata": {},
     "output_type": "execute_result"
    }
   ],
   "source": [
    "\n",
    "def get_drift_report(base_data: pd.DataFrame, current_data: pd.DataFrame, threshold: float=0.1):\n",
    "    report = {}\n",
    "    \n",
    "    for col in base_data.columns:\n",
    "        test = ks_2samp(base_data[col], current_data[col])\n",
    "        \n",
    "        # not have enough evidence to reject the null hypothesis (H0)\n",
    "        # both the data seems to come from the same distribution\n",
    "        if test.pvalue >= threshold:\n",
    "            report[col] = {\n",
    "                'p-value': test.pvalue,\n",
    "                'drift status': False\n",
    "            }\n",
    "        else:\n",
    "            report[col] = {\n",
    "                'p-value': test.pvalue,\n",
    "                'drift status': True\n",
    "            }\n",
    "    \n",
    "    return report\n",
    "\n",
    "\n",
    "get_drift_report(train_df, test_df)"
   ]
  },
  {
   "cell_type": "code",
   "execution_count": null,
   "metadata": {},
   "outputs": [],
   "source": []
  },
  {
   "cell_type": "code",
   "execution_count": 31,
   "metadata": {},
   "outputs": [],
   "source": [
    "import yaml\n",
    "import os"
   ]
  },
  {
   "cell_type": "code",
   "execution_count": 32,
   "metadata": {},
   "outputs": [],
   "source": [
    "def read_yaml_file(file_path: str) -> dict:\n",
    "    try:\n",
    "        with open(file_path, \"rb\") as yaml_file:\n",
    "            return yaml.safe_load(yaml_file)\n",
    "    except Exception as e:\n",
    "        raise Exception(e) "
   ]
  },
  {
   "cell_type": "code",
   "execution_count": 33,
   "metadata": {},
   "outputs": [
    {
     "data": {
      "text/plain": [
       "'config\\\\schema.yaml'"
      ]
     },
     "execution_count": 33,
     "metadata": {},
     "output_type": "execute_result"
    }
   ],
   "source": [
    "SCHEMA_FILE_PATH = os.path.join(\"config\", \"schema.yaml\")\n",
    "SCHEMA_FILE_PATH"
   ]
  },
  {
   "cell_type": "code",
   "execution_count": 34,
   "metadata": {},
   "outputs": [
    {
     "data": {
      "text/plain": [
       "164"
      ]
     },
     "execution_count": 34,
     "metadata": {},
     "output_type": "execute_result"
    }
   ],
   "source": [
    "schema_config = read_yaml_file(SCHEMA_FILE_PATH)\n",
    "len(schema_config['columns'])"
   ]
  },
  {
   "cell_type": "code",
   "execution_count": 36,
   "metadata": {},
   "outputs": [
    {
     "data": {
      "text/plain": [
       "(256, 171)"
      ]
     },
     "execution_count": 36,
     "metadata": {},
     "output_type": "execute_result"
    }
   ],
   "source": [
    "train_df.shape"
   ]
  }
 ],
 "metadata": {
  "kernelspec": {
   "display_name": "Python 3",
   "language": "python",
   "name": "python3"
  },
  "language_info": {
   "codemirror_mode": {
    "name": "ipython",
    "version": 3
   },
   "file_extension": ".py",
   "mimetype": "text/x-python",
   "name": "python",
   "nbconvert_exporter": "python",
   "pygments_lexer": "ipython3",
   "version": "3.9.0"
  }
 },
 "nbformat": 4,
 "nbformat_minor": 2
}
